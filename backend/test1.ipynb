{
 "cells": [
  {
   "cell_type": "code",
   "execution_count": 1,
   "metadata": {},
   "outputs": [
    {
     "name": "stdout",
     "output_type": "stream",
     "text": [
      "Selected Frame: C:\\Users\\kavit\\OneDrive\\Desktop\\chinmayee1\\BOLT AI (3)\\BOLT AI\\backend\\frames\\frame_04.jpg\n"
     ]
    },
    {
     "ename": "KeyError",
     "evalue": "'1'",
     "output_type": "error",
     "traceback": [
      "\u001b[1;31m---------------------------------------------------------------------------\u001b[0m",
      "\u001b[1;31mKeyError\u001b[0m                                  Traceback (most recent call last)",
      "Cell \u001b[1;32mIn[1], line 41\u001b[0m\n\u001b[0;32m     39\u001b[0m logits \u001b[38;5;241m=\u001b[39m outputs\u001b[38;5;241m.\u001b[39mlogits\n\u001b[0;32m     40\u001b[0m predicted_class_idx \u001b[38;5;241m=\u001b[39m logits\u001b[38;5;241m.\u001b[39margmax(\u001b[38;5;241m-\u001b[39m\u001b[38;5;241m1\u001b[39m)\u001b[38;5;241m.\u001b[39mitem()\n\u001b[1;32m---> 41\u001b[0m predicted_class_label \u001b[38;5;241m=\u001b[39m \u001b[43mmodel\u001b[49m\u001b[38;5;241;43m.\u001b[39;49m\u001b[43mconfig\u001b[49m\u001b[38;5;241;43m.\u001b[39;49m\u001b[43mid2label\u001b[49m\u001b[43m[\u001b[49m\u001b[38;5;28;43mstr\u001b[39;49m\u001b[43m(\u001b[49m\u001b[43mpredicted_class_idx\u001b[49m\u001b[43m)\u001b[49m\u001b[43m]\u001b[49m\n\u001b[0;32m     43\u001b[0m \u001b[38;5;28mprint\u001b[39m(\u001b[38;5;124mf\u001b[39m\u001b[38;5;124m'\u001b[39m\u001b[38;5;124mPredicted Class: \u001b[39m\u001b[38;5;132;01m{\u001b[39;00mpredicted_class_label\u001b[38;5;132;01m}\u001b[39;00m\u001b[38;5;124m'\u001b[39m)\n",
      "\u001b[1;31mKeyError\u001b[0m: '1'"
     ]
    }
   ],
   "source": [
    "\n",
    "from transformers import ViTForImageClassification, ViTImageProcessor\n",
    "from PIL import Image\n",
    "import torch\n",
    "\n",
    "# Load model and processor\n",
    "model = ViTForImageClassification.from_pretrained('csr2000/UCF_Crime')\n",
    "processor = ViTImageProcessor(do_resize=True,\n",
    "                              size=224,\n",
    "                              do_normalize=True,\n",
    "                              image_mean=[0.5, 0.5, 0.5],\n",
    "                              image_std=[0.5, 0.5, 0.5])\n",
    "\n",
    "# List of extracted frames\n",
    "import os\n",
    "output_frames_dir = r'C:\\Users\\kavit\\OneDrive\\Desktop\\chinmayee1\\BOLT AI (3)\\BOLT AI\\backend\\frames'\n",
    "selected_frames = sorted(os.listdir(output_frames_dir))\n",
    "\n",
    "# User selects the frame number\n",
    "frame_number = int(input(f\"Enter the frame number (0-{len(selected_frames)-1}): \"))\n",
    "\n",
    "# Validate frame number\n",
    "if frame_number < 0 or frame_number >= len(selected_frames):\n",
    "    raise ValueError(\"Invalid frame number. Please choose a valid number from the range.\")\n",
    "\n",
    "# Select the specific frame\n",
    "selected_frame_path = os.path.join(output_frames_dir, selected_frames[frame_number])\n",
    "print(f'Selected Frame: {selected_frame_path}')\n",
    "\n",
    "# Process the selected frame\n",
    "image = Image.open(selected_frame_path).convert('RGB')\n",
    "inputs = processor(images=image, return_tensors='pt')\n",
    "\n",
    "# Perform inference\n",
    "model.eval()\n",
    "with torch.no_grad():\n",
    "    outputs = model(**inputs)\n",
    "\n",
    "# Get prediction\n",
    "logits = outputs.logits\n",
    "predicted_class_idx = logits.argmax(-1).item()\n",
    "predicted_class_label = model.config.id2label[str(predicted_class_idx)]\n",
    "\n",
    "print(f'Predicted Class: {predicted_class_label}')"
   ]
  },
  {
   "cell_type": "code",
   "execution_count": 2,
   "metadata": {},
   "outputs": [
    {
     "name": "stdout",
     "output_type": "stream",
     "text": [
      "Predicted Class Index: 4\n"
     ]
    }
   ],
   "source": [
    "print(f'Predicted Class Index: {predicted_class_idx}')"
   ]
  }
 ],
 "metadata": {
  "kernelspec": {
   "display_name": "Python 3",
   "language": "python",
   "name": "python3"
  },
  "language_info": {
   "codemirror_mode": {
    "name": "ipython",
    "version": 3
   },
   "file_extension": ".py",
   "mimetype": "text/x-python",
   "name": "python",
   "nbconvert_exporter": "python",
   "pygments_lexer": "ipython3",
   "version": "3.12.3"
  }
 },
 "nbformat": 4,
 "nbformat_minor": 2
}
